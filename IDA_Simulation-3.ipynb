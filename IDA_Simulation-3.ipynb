{
  "nbformat": 4,
  "nbformat_minor": 0,
  "metadata": {
    "colab": {
      "name": "IDA Simulation.ipynb",
      "provenance": [],
      "collapsed_sections": []
    },
    "kernelspec": {
      "display_name": "Python 3",
      "name": "python3"
    }
  },
  "cells": [
    {
      "cell_type": "markdown",
      "metadata": {
        "id": "wXWbybyHf8R_"
      },
      "source": [
        "#IDA Simulation"
      ]
    },
    {
      "cell_type": "code",
      "metadata": {
        "colab": {
          "background_save": true
        },
        "id": "ENHEMw60e2Mc"
      },
      "source": [
        "# library\r\n",
        "import numpy as np\r\n",
        "import matplotlib.pyplot as plt\r\n",
        "import scipy.integrate as integ\r\n",
        "import scipy.optimize as opti\r\n",
        "\r\n",
        "%matplotlib inline"
      ],
      "execution_count": null,
      "outputs": []
    },
    {
      "cell_type": "code",
      "metadata": {
        "colab": {
          "background_save": true
        },
        "id": "m2nAAD52eFxa"
      },
      "source": [
        "# these constants are assumed not to change\r\n",
        "mass_ball = 0.025  #kg\r\n",
        "mass_platform= 0.0642  # kg\r\n",
        "g =9.81  # m/s**2\r\n",
        "dia_ball = 0.04  # m\r\n",
        "rho = 1.164  # kg/m^3, density of air\r\n",
        "mju = 1.872e-5  # kg/m.s, dynamic viscosity of air\r\n",
        "mju_k_r2m = 0.5  # dimensionless, coefficient of kinetic friction rubber to metal\r\n",
        "mju_k_p2m = 0.15  # dimensionless, coefficient of kinetic friction plastic to metal\r\n",
        "\r\n",
        "# these parameter values can be changed\r\n",
        "length_spring = 0.241 # m\r\n",
        "k_spring = 225  # N/m, spring constant\r\n",
        "init_v = 0   # m/s\r\n",
        "\r\n",
        "# these parameter values main variable\r\n",
        "angle = 40  # deg, launch angle\r\n",
        "x_spring = 0.155  # m, spring compression"
      ],
      "execution_count": null,
      "outputs": []
    },
    {
      "cell_type": "code",
      "metadata": {
        "colab": {
          "background_save": true
        },
        "id": "LiDOQZgoebL0"
      },
      "source": [
        "total_mass = mass_ball+mass_platform"
      ],
      "execution_count": null,
      "outputs": []
    },
    {
      "cell_type": "markdown",
      "metadata": {
        "id": "UkGltxUwxTD4"
      },
      "source": [
        "Formula to calculate displacement (taking origin as the launch location pin)\r\n",
        "\r\n",
        "Default distance between launch location pin to bottom of the spring = 0.1 m (subject to change)\r\n",
        "\r\n",
        "Angle of elevation between the launch location pin and the bottom of the spring = angle_0 = 40\r\n",
        "\r\n",
        "Default length of spring = 0.241 m\r\n",
        "\r\n",
        "Length of launcher platform = 0.15 m"
      ]
    },
    {
      "cell_type": "code",
      "metadata": {
        "colab": {
          "background_save": true
        },
        "id": "hFSqnBUIxW_O"
      },
      "source": [
        "def displacement(angle=angle,dist_origin_to_spring=0.144,angle_0=45,spring_length=length_spring,compression_length=x_spring):\r\n",
        "  \"\"\" This function return x0, y0, x1, y1, x2, y2 in tuple\"\"\"\r\n",
        "  x0 = 0.09\r\n",
        "  y0 = 0.25\r\n",
        "  x1 = x0+(spring_length+0.015-compression_length)*np.cos(np.deg2rad(angle))\r\n",
        "  y1 = y0+(spring_length+0.015-compression_length)*np.sin(np.deg2rad(angle))\r\n",
        "  x2 = x0+0.306*np.cos(np.deg2rad(angle))\r\n",
        "  y2 = y0+0.306*np.sin(np.deg2rad(angle))\r\n",
        "  return x0, y0, x1, y1, x2, y2"
      ],
      "execution_count": null,
      "outputs": []
    },
    {
      "cell_type": "code",
      "metadata": {
        "colab": {
          "background_save": true
        },
        "id": "FoUbS6uN7Uny",
        "outputId": "1572cdfd-accd-468d-b572-a23fdd891cab"
      },
      "source": [
        "displacement()"
      ],
      "execution_count": null,
      "outputs": [
        {
          "output_type": "execute_result",
          "data": {
            "text/plain": [
              "(0.09,\n",
              " 0.25,\n",
              " 0.16737048875501678,\n",
              " 0.3149215485783405,\n",
              " 0.3244095995944073,\n",
              " 0.446693008564081)"
            ]
          },
          "metadata": {
            "tags": []
          },
          "execution_count": 0
        }
      ]
    },
    {
      "cell_type": "markdown",
      "metadata": {
        "id": "LXOpRc4EeUYt"
      },
      "source": [
        "#Compression"
      ]
    },
    {
      "cell_type": "code",
      "metadata": {
        "colab": {
          "background_save": true
        },
        "id": "E2AmGhE7gCDK"
      },
      "source": [
        "def friction_decompression():\r\n",
        "  return mju_k_p2m*g*np.cos(np.deg2rad(angle))"
      ],
      "execution_count": null,
      "outputs": []
    },
    {
      "cell_type": "code",
      "metadata": {
        "colab": {
          "background_save": true
        },
        "id": "hysWgxAbgHMC"
      },
      "source": [
        "#Spring equation\r\n",
        "def spring(y, t):\r\n",
        "  #unpack array\r\n",
        "  s, v = y\r\n",
        "  #dsdt (spring compression length)\r\n",
        "  dsdt = -v\r\n",
        "  #dvdt\r\n",
        "  dvdt = k_spring*s/total_mass - g*np.sin(np.deg2rad(angle)) - friction_decompression()\r\n",
        "  return dsdt, dvdt"
      ],
      "execution_count": null,
      "outputs": []
    },
    {
      "cell_type": "markdown",
      "metadata": {
        "id": "EyI5vBL3eejL"
      },
      "source": [
        "Finding maximum velocity (zero acceleration)"
      ]
    },
    {
      "cell_type": "code",
      "metadata": {
        "colab": {
          "background_save": true
        },
        "id": "oE8Iz1UVeg_b"
      },
      "source": [
        "def maxVelocity(t_end):\r\n",
        "  t = np.linspace(0, t_end, 100)\r\n",
        "  solution = integ.odeint(spring, y0, t)\r\n",
        "  v, a = spring(solution[-1], t_end)\r\n",
        "  return a"
      ],
      "execution_count": null,
      "outputs": []
    },
    {
      "cell_type": "code",
      "metadata": {
        "colab": {
          "background_save": true
        },
        "id": "zZH5wO8Lvd7L"
      },
      "source": [
        "# initial displacement and velocity\r\n",
        "y0 = [x_spring, init_v]\r\n",
        "\r\n",
        "def v_final(y0=y0):\r\n",
        "  t_end = opti.newton(maxVelocity, 0.013)\r\n",
        "\r\n",
        "  t = np.linspace(0,t_end,100)\r\n",
        "\r\n",
        "  sol = integ.odeint(spring, y0, t)\r\n",
        "  s = sol[:,0]\r\n",
        "  v = sol[:,1]\r\n",
        "  return v"
      ],
      "execution_count": null,
      "outputs": []
    },
    {
      "cell_type": "code",
      "metadata": {
        "colab": {
          "background_save": true
        },
        "id": "tYSiro8ZLngg",
        "outputId": "f91c9725-74a1-4cce-95ae-b82001f18f50"
      },
      "source": [
        "displacement()"
      ],
      "execution_count": null,
      "outputs": [
        {
          "output_type": "execute_result",
          "data": {
            "text/plain": [
              "(0.09,\n",
              " 0.25,\n",
              " 0.16737048875501678,\n",
              " 0.3149215485783405,\n",
              " 0.3244095995944073,\n",
              " 0.446693008564081)"
            ]
          },
          "metadata": {
            "tags": []
          },
          "execution_count": 0
        }
      ]
    },
    {
      "cell_type": "markdown",
      "metadata": {
        "id": "mKsc5A4ugN4t"
      },
      "source": [
        "#Travelling in pipe"
      ]
    },
    {
      "cell_type": "code",
      "metadata": {
        "colab": {
          "background_save": true
        },
        "id": "0Ek9nPrOcFCs"
      },
      "source": [
        "def friction_pipe():\r\n",
        "  return mju_k_r2m*g*np.cos(np.deg2rad(angle))\r\n"
      ],
      "execution_count": null,
      "outputs": []
    },
    {
      "cell_type": "code",
      "metadata": {
        "colab": {
          "background_save": true
        },
        "id": "hLsKloLcteu9"
      },
      "source": [
        "def ballvel(x_spring,init_v=0):\r\n",
        "  a=g*np.sin(np.deg2rad(angle))+friction_pipe()\r\n",
        "  v_launch=((v_final(y0=[x_spring, init_v])[-1])**2-2*(a)*(0.306-length_spring-0.015))**0.5\r\n",
        "  return v_launch"
      ],
      "execution_count": null,
      "outputs": []
    },
    {
      "cell_type": "code",
      "metadata": {
        "colab": {
          "background_save": true
        },
        "id": "DU41a5P5z9a3",
        "outputId": "3e5111c5-3398-42a0-c94c-bc35ec084b3a"
      },
      "source": [
        "ballvel(x_spring=x_spring)"
      ],
      "execution_count": null,
      "outputs": [
        {
          "output_type": "execute_result",
          "data": {
            "text/plain": [
              "7.570504339730513"
            ]
          },
          "metadata": {
            "tags": []
          },
          "execution_count": 0
        }
      ]
    },
    {
      "cell_type": "markdown",
      "metadata": {
        "id": "AfPKzF1MYm98"
      },
      "source": [
        "# Trajectory"
      ]
    },
    {
      "cell_type": "markdown",
      "metadata": {
        "id": "3vEUA90FZniu"
      },
      "source": [
        "**N.B.**\r\n",
        "\r\n",
        "\"Initial\" in this code refers to the conditions when the ball just leaves the pipe, not the conditions when it is held at the compressed spring."
      ]
    },
    {
      "cell_type": "markdown",
      "metadata": {
        "id": "oDltiUNXZtTE"
      },
      "source": [
        "Basic functions"
      ]
    },
    {
      "cell_type": "code",
      "metadata": {
        "colab": {
          "background_save": true
        },
        "id": "cJm-5EoBZ0FH"
      },
      "source": [
        "# return x, y, Vx, Vy and t arrays given certain input conditions\r\n",
        "def trajectory(x_0, y_0, V_mag, theta, T=1):\r\n",
        "    \"\"\"\r\n",
        "    Function accepts the initial position of the ball x_0 and y_0, the initial velocity magnitude of the ball V_mag, the initial\r\n",
        "    angle between the velocity vector and the positive x-axis theta, and a time T, and returns arrays each corresponding to the \r\n",
        "    horizontal and vertical distance travelled by the ball x and y, and the horizontal and vertical components of the ball's \r\n",
        "    velocities Vx and Vy, for a time interval from 0 to T seconds\r\n",
        "    \"\"\"\r\n",
        "    # calculate Reynolds number\r\n",
        "    Re = rho * V_mag * dia_ball / mju\r\n",
        "    \r\n",
        "    # calculate drag coefficient\r\n",
        "    Cd = 24/Re * (1 + 0.27*Re)**0.43 + 0.47 * (1 - np.exp(-0.04*Re**0.38))\r\n",
        "    \r\n",
        "    # calculate magnitude of drag force\r\n",
        "    D_mag = 0.5 * rho * V_mag**2 * Cd * dia_ball**2 * np.pi / 4\r\n",
        "    \r\n",
        "    # calculate drag force components\r\n",
        "    Dx = D_mag * np.cos(theta)\r\n",
        "    Dy = D_mag * np.sin(theta)\r\n",
        "    \r\n",
        "    # calculate initial velocity components\r\n",
        "    Vx_0 = V_mag * np.cos(theta)    \r\n",
        "    Vy_0 = V_mag * np.sin(theta)\r\n",
        "    \r\n",
        "    # create time array\r\n",
        "    t = np.linspace(0, T, 101)\r\n",
        "    \r\n",
        "    # function which computes RHS of ODEs\r\n",
        "    def trajectory_func(u, t):        \r\n",
        "        x, y, Vx, Vy = u        \r\n",
        "        ax = - Dx/mass_ball     \r\n",
        "        ay = - Dy/mass_ball - g   \r\n",
        "        return [Vx, Vy, ax, ay]\r\n",
        "    \r\n",
        "    # pack initial conditions into u_0\r\n",
        "    u_0 = [x_0, y_0, Vx_0, Vy_0]\r\n",
        "    \r\n",
        "    #integrate\r\n",
        "    result = integ.odeint(trajectory_func, u_0, t)\r\n",
        "    \r\n",
        "    # unpack data\r\n",
        "    x  = result[:, 0]\r\n",
        "    y  = result[:, 1]\r\n",
        "    Vx = result[:, 2]\r\n",
        "    Vy = result[:, 3]\r\n",
        "   \r\n",
        "    # return x, y, Vx, Vy, and t arrays\r\n",
        "    return x, y, Vx, Vy, t       "
      ],
      "execution_count": null,
      "outputs": []
    },
    {
      "cell_type": "code",
      "metadata": {
        "colab": {
          "background_save": true
        },
        "id": "Ls0VX0lHZ1Yu"
      },
      "source": [
        "# return x, y, Vx, Vy and t arrays when y reaches zero\r\n",
        "def trajectory_with_stop(x_0, y_0, V_mag, theta):\r\n",
        "    \"\"\"\r\n",
        "    Function accepts certain input conditions and returns arrays each corresponding to x, y, Vx, Vy and t after y becomes zero\r\n",
        "    again\r\n",
        "    \"\"\"\r\n",
        "    # return y at t=T from given initial conditions\r\n",
        "    def find_y_at_T(T):\r\n",
        "        x, y, Vx, Vy, t = trajectory(x_0, y_0, V_mag, theta, T=T)\r\n",
        "        return y[-1] + 0.105\r\n",
        "\r\n",
        "    # find t when y goes to zero\r\n",
        "    T_stop = opti.newton(find_y_at_T, 2)\r\n",
        "\r\n",
        "    # return x, y, Vx, Vy and t arrays\r\n",
        "    return trajectory(x_0, y_0, V_mag, theta, T=T_stop)"
      ],
      "execution_count": null,
      "outputs": []
    },
    {
      "cell_type": "markdown",
      "metadata": {
        "id": "n0OJFcDFZ4Gn"
      },
      "source": [
        "Plotting"
      ]
    },
    {
      "cell_type": "code",
      "metadata": {
        "colab": {
          "background_save": true
        },
        "id": "YO8MAUEeAmbS"
      },
      "source": [
        "# plot y against x\r\n",
        "def plot_trajectory(x_0, y_0, V_mag, theta):\r\n",
        "    \"\"\"\r\n",
        "    Function accepts certain input conditions and plots a graph showing the trajectory of the ball\r\n",
        "    \"\"\"\r\n",
        "    x, y, Vx, Vy, t = trajectory_with_stop(x_0, y_0, V_mag, theta)\r\n",
        "    \r\n",
        "    # plotting\r\n",
        "    plt.figure(1)\r\n",
        "    plt.plot(x, y)\r\n",
        "    plt.grid(1)\r\n",
        "    plt.gca().set_aspect(1)\r\n",
        "    plt.xlabel(\"x (m)\")\r\n",
        "    plt.ylabel(\"y (m)\")\r\n",
        "    y_interp = np.interp(6, x, y)\r\n",
        "    plt.ylim(bottom=0)\r\n",
        "    return None   "
      ],
      "execution_count": null,
      "outputs": []
    },
    {
      "cell_type": "code",
      "metadata": {
        "colab": {
          "background_save": true
        },
        "id": "fQJuSkqLZ8Sx",
        "outputId": "71f7a750-63a2-46cb-df22-11674359515b"
      },
      "source": [
        "plot_trajectory(displacement()[4],displacement()[5],ballvel(x_spring),np.deg2rad(angle))"
      ],
      "execution_count": null,
      "outputs": [
        {
          "output_type": "display_data",
          "data": {
            "image/png": "[encoded data removed]",
            "text/plain": [
              "<Figure size 432x288 with 1 Axes>"
            ]
          },
          "metadata": {
            "tags": []
          }
        }
      ]
    },
    {
      "cell_type": "code",
      "metadata": {
        "colab": {
          "background_save": true
        },
        "id": "yOjQ4BipZ9zr"
      },
      "source": [
        "# plot initial velocity magnitude vs range\r\n",
        "def plot_V0_vs_range(V0_min, V0_max, x_0=0, y_0=0, theta=np.deg2rad(45)):\r\n",
        "    \"\"\"\r\n",
        "    Function accepts a minimum and a maximum initial velocity magnitude V0_min and V0_max, the initial position of the ball x_0 \r\n",
        "    and y_0, and the initial angle between the velocity vector and the positive x-axis theta, and plots a graph showing how the \r\n",
        "    initial magnitude of velocity affects the total horizontal distance travelled by the ball\r\n",
        "    \"\"\"\r\n",
        "    # return final horizontal distance travelled given a certain velocity magnitude\r\n",
        "    def range(Vmag):\r\n",
        "        x, y, Vx, Vy, t = trajectory_with_stop(x_0, y_0, Vmag, theta)\r\n",
        "        return x[-1]\r\n",
        "    \r\n",
        "    # create array of initial velocity magnitudes\r\n",
        "    V_mags = np.linspace(V0_min, V0_max, 20)\r\n",
        "    \r\n",
        "    # create array of total horizontal distances\r\n",
        "    ranges = [range(V) for V in V_mags] \r\n",
        "    \r\n",
        "    # plotting\r\n",
        "    plt.figure(2)\r\n",
        "    plt.plot(ranges, V_mags)\r\n",
        "    plt.grid(1)\r\n",
        "    plt.gca().set_aspect(1)\r\n",
        "    plt.xlabel(\"Range (m)\")\r\n",
        "    plt.ylabel(\"Initial Velocity (m/s)\")\r\n",
        "    \r\n",
        "    return None"
      ],
      "execution_count": null,
      "outputs": []
    },
    {
      "cell_type": "code",
      "metadata": {
        "colab": {
          "base_uri": "https://localhost:8080/",
          "height": 279
        },
        "id": "-TVEpqcCaEIy",
        "outputId": "e9a1bb03-fa75-4888-9dfb-5a382015bfe2"
      },
      "source": [
        "plot_V0_vs_range(0.5, 20, x_0=0, y_0=0, theta=np.deg2rad(angle))"
      ],
      "execution_count": null,
      "outputs": [
        {
          "output_type": "display_data",
          "data": {
            "image/png": "[encoded data removed]",
            "text/plain": [
              "<Figure size 432x288 with 1 Axes>"
            ]
          },
          "metadata": {
            "tags": [],
            "needs_background": "light"
          }
        }
      ]
    },
    {
      "cell_type": "code",
      "metadata": {
        "colab": {
          "background_save": true
        },
        "id": "PfoUYWKgaGNC"
      },
      "source": [
        "# plot initial angle vs range (angle in degrees)\r\n",
        "def plot_angle_vs_range(theta_min, theta_max, x_0, y_0, V_mag):\r\n",
        "    \"\"\"\r\n",
        "    Function accepts a minimum and a maximum initial angle theta_min and theta_max in degrees, the initial position of the ball\r\n",
        "    x_0 and y_0, and the initial velocity magnitude V_mag, and plots a graph showing how the initial angle between the velocity \r\n",
        "    vector and the positive x-axis affects the total horizontal distance travelled by the ball\r\n",
        "    \"\"\"\r\n",
        "    # return final horizontal distance travelled given a certain angle in radians\r\n",
        "    def range(thetha):\r\n",
        "        x, y, Vx, Vy, t = trajectory_with_stop(x_0, y_0, V_mag, thetha)\r\n",
        "        return x[-1]\r\n",
        "    # create array of initial angles in degrees   \r\n",
        "    thetas = np.linspace(theta_min, theta_max, 13)\r\n",
        "    # create array of total horizontal distances\r\n",
        "    ranges = [range(np.deg2rad(t)) for t in thetas] \r\n",
        "     \r\n",
        "    # plotting    \r\n",
        "    plt.figure(3)\r\n",
        "    plt.plot(ranges, thetas)\r\n",
        "    plt.grid(1)\r\n",
        "    plt.xlabel(\"Range (m)\")\r\n",
        "    plt.ylabel(\"Initial Angle ($^\\circ$)\")\r\n",
        "    return None"
      ],
      "execution_count": null,
      "outputs": []
    },
    {
      "cell_type": "code",
      "metadata": {
        "colab": {
          "background_save": true
        },
        "id": "wZy0mH6ZaIHS",
        "outputId": "b48701d1-e01a-49b1-e93b-5a54eab09104"
      },
      "source": [
        "plot_angle_vs_range(0, 60, x_0=displacement()[4], y_0=displacement()[5], V_mag=ballvel(x_spring))"
      ],
      "execution_count": null,
      "outputs": [
        {
          "output_type": "display_data",
          "data": {
            "image/png": "[encoded data removed]",
            "text/plain": [
              "<Figure size 432x288 with 1 Axes>"
            ]
          },
          "metadata": {
            "tags": []
          }
        }
      ]
    },
    {
      "cell_type": "code",
      "metadata": {
        "colab": {
          "background_save": true
        },
        "id": "3cCnXqxNfar-"
      },
      "source": [
        "def estimator(target,x_0,y_0,tol_min=-0.01, tol_max=0.01,theta_min=15, theta_max=60):\r\n",
        "  \"\"\"\r\n",
        "  estimate angle and spring compression length for target\r\n",
        "  \"\"\"\r\n",
        "  for i in np.arange(0.05,0.175,0.005):\r\n",
        "    i = float(i)\r\n",
        "    # return final horizontal distance travelled given a certain angle in radians\r\n",
        "    V_mag=ballvel(i)\r\n",
        "    def range(thetha):\r\n",
        "        x, y, Vx, Vy, t = trajectory_with_stop(x_0, y_0, V_mag, thetha)\r\n",
        "        y_interp = np.interp(target, x, y)\r\n",
        "        test.append(y_interp)\r\n",
        "        return x, y\r\n",
        "    test = []\r\n",
        "    # create array of initial angles in degrees   \r\n",
        "    thetas = np.linspace(theta_min, theta_max, 10)\r\n",
        "    # create array of total horizontal distances\r\n",
        "    ranges = [range(np.deg2rad(t))[0][-1] for t in thetas] \r\n",
        "\r\n",
        "    result = min(test, key=abs)\r\n",
        "    result_index = test.index(result)\r\n",
        "    # print(result)\r\n",
        "    # print(thetas[result_index])\r\n",
        "    if result >= tol_min and result <= tol_max:\r\n",
        "      print(\"Solution at {}deg, {}m - error:{}\".format(thetas[result_index],np.round(i,3),result))\r\n",
        "      # plotting    \r\n",
        "      plot_trajectory(x_0,y_0,ballvel(i),np.deg2rad(thetas[result_index]))\r\n",
        "  return None"
      ],
      "execution_count": null,
      "outputs": []
    },
    {
      "cell_type": "code",
      "metadata": {
        "colab": {
          "background_save": true
        },
        "id": "81OEf2VYdBKl",
        "outputId": "50752be9-00b8-4d85-e151-39170008b7c3"
      },
      "source": [
        "estimator(target=6,x_0=0.09,y_0=0.245)"
      ],
      "execution_count": null,
      "outputs": [
        {
          "output_type": "stream",
          "text": [
            "Solution at 55.0deg, 0.17m - error:-0.0035694542371004917\n"
          ],
          "name": "stdout"
        },
        {
          "output_type": "display_data",
          "data": {
            "image/png": "[encoded data removed]",
            "text/plain": [
              "<Figure size 432x288 with 1 Axes>"
            ]
          },
          "metadata": {
            "tags": []
          }
        }
      ]
    }
  ]
}